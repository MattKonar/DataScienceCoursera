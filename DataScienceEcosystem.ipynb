{
 "cells": [
  {
   "cell_type": "markdown",
   "id": "4d41eea9-6698-4f9d-84b6-1283d96639be",
   "metadata": {},
   "source": [
    "# Data Science Tools and Ecosystem"
   ]
  },
  {
   "cell_type": "markdown",
   "id": "071b8114-4f9e-4b88-8ec7-f839bf662319",
   "metadata": {
    "tags": []
   },
   "source": [
    "## Author\n",
    "Matthew Konar"
   ]
  },
  {
   "cell_type": "markdown",
   "id": "67592180-a35a-4a54-847e-02c1e89e866e",
   "metadata": {},
   "source": [
    "In this notebook, Data Science Tools and Ecosystem are summarized."
   ]
  },
  {
   "cell_type": "markdown",
   "id": "04fb3334-c544-4663-9b2a-63f30c5ca946",
   "metadata": {},
   "source": [
    "**Objectives:**\n",
    "\n",
    "* List popular languages for data science\n",
    "* List data science tools\n",
    "* display arithmetic expressions in Python"
   ]
  },
  {
   "cell_type": "markdown",
   "id": "e3d87289-d86a-4611-90af-1f3510fce05d",
   "metadata": {},
   "source": [
    "## Some of the popular languages that Data Scientists use are:\n",
    "1. Pthyon\n",
    "2. R\n",
    "3. Scala\n",
    "4. Java"
   ]
  },
  {
   "cell_type": "markdown",
   "id": "5f1891ab-b5ba-499b-83a0-2aca3c092f11",
   "metadata": {
    "jupyter": {
     "source_hidden": true
    },
    "tags": []
   },
   "source": [
    "## Some of the commonly used libraries used by Data Scientists icnlude:\n",
    "1. Pandas\n",
    "2. matplotlib\n",
    "3. SciPy\n",
    "4. PyTorch\n",
    "5. TensorFlow"
   ]
  },
  {
   "cell_type": "markdown",
   "id": "2991ebda-2222-446d-a197-0f9b3a317746",
   "metadata": {
    "tags": []
   },
   "source": [
    "|Data Science Tools|\n",
    "|------------------|\n",
    "|Apache Spark|\n",
    "|RStudio|\n",
    "|Jupyter Notebook|"
   ]
  },
  {
   "cell_type": "markdown",
   "id": "113c0d77-5cb2-420d-9f3b-eb23f424cb88",
   "metadata": {},
   "source": [
    "### below are a few examples of arithmetic expressions in Python\n"
   ]
  },
  {
   "cell_type": "code",
   "execution_count": 14,
   "id": "d1272ffe-ab92-400f-86e8-3e6256d18f97",
   "metadata": {
    "tags": []
   },
   "outputs": [
    {
     "data": {
      "text/plain": [
       "17"
      ]
     },
     "execution_count": 14,
     "metadata": {},
     "output_type": "execute_result"
    }
   ],
   "source": [
    "#this is a simple arithmetic expression to multiply then add integers\n",
    "(3*4)+5"
   ]
  },
  {
   "cell_type": "code",
   "execution_count": 16,
   "id": "385a3820-fd87-4b9c-950d-8e1d9a2ed45f",
   "metadata": {
    "tags": []
   },
   "outputs": [
    {
     "data": {
      "text/plain": [
       "3.3333333333333335"
      ]
     },
     "execution_count": 16,
     "metadata": {},
     "output_type": "execute_result"
    }
   ],
   "source": [
    "#This will convert 200 minutes to hours by dividing by 60\n",
    "200/60\n"
   ]
  },
  {
   "cell_type": "markdown",
   "id": "ead9bece-d6f6-4cc0-ba4b-c6decd278786",
   "metadata": {},
   "source": []
  }
 ],
 "metadata": {
  "kernelspec": {
   "display_name": "Python 3 (ipykernel)",
   "language": "python",
   "name": "python3"
  },
  "language_info": {
   "codemirror_mode": {
    "name": "ipython",
    "version": 3
   },
   "file_extension": ".py",
   "mimetype": "text/x-python",
   "name": "python",
   "nbconvert_exporter": "python",
   "pygments_lexer": "ipython3",
   "version": "3.11.7"
  }
 },
 "nbformat": 4,
 "nbformat_minor": 5
}
